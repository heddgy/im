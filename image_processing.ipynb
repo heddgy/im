{
 "cells": [
  {
   "cell_type": "code",
   "execution_count": 1,
   "metadata": {},
   "outputs": [],
   "source": [
    "from glob import glob\n",
    "from random import shuffle, seed, randint, choice\n",
    "from PIL import Image, ImageChops, ImageOps\n",
    "\n",
    "from sklearn.decomposition import IncrementalPCA, SparsePCA\n",
    "from sklearn.preprocessing import normalize\n",
    "from sklearn.metrics.pairwise import cosine_similarity\n",
    "\n",
    "from IPython.display import display, HTML, display_html\n",
    "\n",
    "import os\n",
    "import pickle\n",
    "import numpy as np\n",
    "import pandas as pd\n",
    "\n",
    "FOLDER = './test/'\n",
    "STANDARD_SIZE = (150,215)\n",
    "\n",
    "N_COMPONENTS = 50\n",
    "N_COMPONENTS_TO_SHOW = 50\n",
    "\n",
    "%matplotlib inline"
   ]
  },
  {
   "cell_type": "code",
   "execution_count": 2,
   "metadata": {},
   "outputs": [],
   "source": [
    "def resize(im, size=STANDARD_SIZE):\n",
    "    \"\"\"takes image and turns into centered and resized version\"\"\"\n",
    "    old_size = im.size\n",
    "    ratio = 1. * size[1] / size[0]\n",
    "    \n",
    "    if old_size[0] * ratio < old_size[1]:\n",
    "        w = old_size[1] / ratio\n",
    "        h = old_size[1]\n",
    "    else:\n",
    "        w = old_size[0]\n",
    "        h = old_size[0] * ratio\n",
    "    \n",
    "    new_size = (round(w), round(h))\n",
    "    \n",
    "    img = Image.new(\"RGB\", new_size, color=(255, 255, 255))\n",
    "    img.paste(im, (round((new_size[0]-old_size[0])/2),\n",
    "                   round((new_size[1]-old_size[1])/2)))\n",
    "    \n",
    "    return img\n",
    "\n",
    "def trim(im):\n",
    "    bg = Image.new(im.mode, im.size, im.getpixel((0,0)))\n",
    "    diff = ImageChops.difference(im, bg)\n",
    "    diff = ImageChops.add(diff, diff, 2.0, -10)\n",
    "    bbox = diff.getbbox()\n",
    "    if bbox:\n",
    "        return im.crop(bbox)\n",
    "\n",
    "def process(im, size=STANDARD_SIZE):\n",
    "    im = trim(im)\n",
    "    im = resize(im, size)\n",
    "    return im.resize(size)\n",
    "\n",
    "def img2arr(im):\n",
    "    \"\"\"takes an image and turns it into a numpy array (3*width*height, ) of RGB pixels\"\"\"\n",
    "    try:\n",
    "        #convert PIL image to numpy array of shape (h, w, c)\n",
    "        img = np.array(im, dtype=np.int16)\n",
    "        \n",
    "        r, g, b, wht = img[:,:,0], img[:,:,1], img[:,:,2], 250\n",
    "        mask = (r>=wht) & (g>=wht) & (b>=wht)\n",
    "        \n",
    "        #change background pixels to some very different from usual values\n",
    "        img[mask] = [-999, -999, -999]\n",
    "        \n",
    "        return img.reshape(img.size, )\n",
    "    except:\n",
    "        print (\"Some error here!\")\n",
    "        return None\n",
    "\n",
    "def item_info(cats, common_brands=True, gbp=76.77):\n",
    "    \n",
    "    df, pics = pd.DataFrame(), pd.DataFrame()\n",
    "    \n",
    "    if not isinstance(cats, list):\n",
    "        if isinstance(cats, str):\n",
    "            cats = [cats]\n",
    "        else:\n",
    "            print (\"Bad value for 'cats'\")\n",
    "            return np.array([]), np.array([])\n",
    "    \n",
    "    for site in ['tsm', 'nap']:\n",
    "        img_path = './' + site + '_pictures/*'\n",
    "    \n",
    "        ef = pd.read_csv('./data/' + site + '_items')\n",
    "        ef = ef.drop(['page'], axis=1).drop_duplicates('id', keep='first')\n",
    "        ef['type'] = site\n",
    "        if site == 'nap': ef['price'] *= gbp\n",
    "        \n",
    "        for cat in cats:\n",
    "            cf = ef[ef['nav_menu'] == str(cat)]\n",
    "            df = df.append(cf)\n",
    "        \n",
    "        rows = []\n",
    "        images = glob(img_path)\n",
    "        for image in images:\n",
    "            base = os.path.basename(image)\n",
    "            offer = int(os.path.splitext(base)[0])\n",
    "            rows.append({'id': offer, 'img_local': image})\n",
    "\n",
    "        ep = pd.DataFrame.from_dict(rows)\n",
    "        pics = pics.append(ep)\n",
    "    \n",
    "    if common_brands:\n",
    "        cb = pd.read_csv('./data/common_brands')\n",
    "        df = df.merge(cb, on='brand')\n",
    "    \n",
    "    df = df.merge(pics, on='id').set_index('id')\n",
    "    \n",
    "    return df\n",
    "\n",
    "def get_data(cats, common_brands=True):\n",
    "    \n",
    "    df = item_info(cats, common_brands)\n",
    "    \n",
    "    print('processing images...')\n",
    "    print('(this takes a long time if you have a lot of images)')\n",
    "    \n",
    "    raw_data = []\n",
    "    i, m = 0, df['img_local'].count()\n",
    "    \n",
    "    print(\"{} out of {} images processed\".format(0, m))\n",
    "    \n",
    "    for ix, row in df.iterrows():\n",
    "        img = row['img_local']\n",
    "        \n",
    "        try:\n",
    "            img = Image.open(img)\n",
    "        except:\n",
    "            print (\"\\tSome error here at iter \" + str(i) + \" for index: \" + str(ix))\n",
    "        \n",
    "        if (row['type'] == 'tsm') & (row['nav_menu'] == 'Обувь'):\n",
    "            # because tsum shoes oriented different way. mostly...\n",
    "            img = ImageOps.mirror(img)\n",
    "        \n",
    "        try:\n",
    "            img = process(img)\n",
    "        except:\n",
    "            print (int(ix), row['img_local'])\n",
    "        \n",
    "        arr = img2arr(img)\n",
    "        \n",
    "        if arr is not None:\n",
    "            raw_data.append((arr,ix))\n",
    "            i += 1\n",
    "    \n",
    "    print(\"{} out of {} images processed\".format(i, m))\n",
    "    print('finished processing images...')\n",
    "    \n",
    "    shuffle(raw_data)\n",
    "    data = np.array([img for (img, lbl) in raw_data])\n",
    "    labels = np.array([lbl for (im, lbl) in raw_data])\n",
    "    \n",
    "    return data, labels, df\n",
    "\n",
    "def pca(data, n_components=N_COMPONENTS, batch_size=None, copy=False):\n",
    "    print ('doing PCA...')\n",
    "    pca = IncrementalPCA(n_components=n_components, batch_size=batch_size, copy=copy)\n",
    "    #pca = SparsePCA(n_components)\n",
    "    #data = normalize(data)\n",
    "    X = pca.fit_transform(data)\n",
    "    print ('PCA is finished...')\n",
    "    return X\n",
    "\n",
    "def get_item_info(d):\n",
    "    if not isinstance(d, dict):\n",
    "        return d\n",
    "    df, pics = item_info()\n",
    "    d.update({key:[] for key in ['name', 'brand', 'image', 'price']})\n",
    "    for id in d['id']:\n",
    "        offer = df.loc[id]\n",
    "        img = pics.loc[id]['path']\n",
    "        if offer is not None:\n",
    "            d['name'].append(offer['name'])\n",
    "            d['brand'].append(offer['brand'])\n",
    "            d['image'].append(img)\n",
    "            d['price'].append(offer['price'])\n",
    "            # URL\n",
    "        else:\n",
    "            d['name'].append('')\n",
    "            d['brand'].append('')\n",
    "            d['image'].append('')\n",
    "            d['price'].append('')\n",
    "            d['oldprice'].append('')\n",
    "            # URL\n",
    "    return d\n",
    "\n",
    "def get_html(d, info, width = 150):\n",
    "    if type(width)==type(1): width = \"{}px\".format(width)\n",
    "    html = [\"<table align = 'center' style = 'border-style: hidden'><tr>\"]\n",
    "    \n",
    "    #for key in d.keys(): print '{0} have {1} elements'.format(key, len(d[key]))\n",
    "    #print d['id']\n",
    "    \n",
    "    desc = info\n",
    "    \n",
    "    for i in range(len(d['id'])):\n",
    "        row = desc.loc[d['id'][i]]\n",
    "        html.append(\"<th style = 'text-align: center; width: {}'>\".format(width))\n",
    "        html.append(\"offer: {}</br>price: {:.2f}</br>{}</br>{:.2f} %</br>\".format(d['id'][i], \n",
    "                                                                              row['price'], \n",
    "                                                                              row['brand'], \n",
    "                                                                              100 * d['score'][i]))\n",
    "        html.append(\"</th>\")\n",
    "        \n",
    "    html.append(\"</tr><tr>\")\n",
    "    \n",
    "    for i in range(len(d['id'])):\n",
    "        pic = desc.loc[d['id'][i]]\n",
    "        html.append(\"<td style = 'width:{}'>\".format(width))\n",
    "        html.append(\"<a href = '{}' target='_blank'><img src = '{}' width=/></a></td>\".format(pic['img'], pic['img']))\n",
    "    \n",
    "    html.append(\"</tr></table>\")\n",
    "    \n",
    "    return html\n",
    "\n",
    "def show_recos(d, **args):\n",
    "    \n",
    "    html = '<head><meta charset=\\\"utf-8\\\"></head>\\n'\n",
    "    \n",
    "    if not isinstance(d, dict):\n",
    "        return HTML(d)\n",
    "    \n",
    "    if d.get('given') is not None:\n",
    "        html += '<p style =\"text-align: center\">Given items:</p>'\n",
    "        html += ''.join(get_html(d['given'], info))\n",
    "    \n",
    "    html += '<p style =\"text-align: center\">Recommendations:</p>'\n",
    "    html += ''.join(get_html(d, info))\n",
    "    display(HTML(html))\n",
    "    #return HTML(html)\n",
    "\n",
    "def get_ix(labels, df, site=None, brand=None):\n",
    "    if site is not None:\n",
    "        df = df.loc[(df['type']==site)]\n",
    "    if brand is not None:\n",
    "        df = df.loc[(df['brand']==brand)]\n",
    "    ix = np.in1d(labels, df.index.values)\n",
    "    return np.where(ix)[0]\n",
    "\n",
    "def get_similar_items(sim, labels, df, to='tsm', offer = None, limit = 6, treshold=.75):\n",
    "    \n",
    "    if offer is None:\n",
    "        ix = get_ix(labels, df, site=to)\n",
    "        inputint = choice(ix)\n",
    "    else:\n",
    "        inputint = labels.tolist().index(offer)\n",
    "    \n",
    "    brand = df.loc[labels[inputint]]['brand']\n",
    "    ix = get_ix(labels, df, brand=brand)\n",
    "    \n",
    "    sim[np.ix_(ix, ix)] += 1\n",
    "    indices = np.argpartition(-sim[inputint], range(limit + 1))[:limit + 1]\n",
    "    sim[np.ix_(ix, ix)] -= 1\n",
    "    \n",
    "    d = {'id': [], 'score': []}\n",
    "    d['given'] = {'id': [labels[indices].tolist()[0]], 'score': [sim[inputint][indices].tolist()[0]]}\n",
    "    for i in range(1, limit+1):\n",
    "        if sim[inputint][indices].tolist()[i] > treshold:\n",
    "            d['id'].append(labels[indices].tolist()[i])\n",
    "            d['score'].append(sim[inputint][indices].tolist()[i])\n",
    "    return d"
   ]
  },
  {
   "cell_type": "raw",
   "metadata": {},
   "source": [
    "lengthy and memory taking process. may be skipped if we have saved files "
   ]
  },
  {
   "cell_type": "raw",
   "metadata": {},
   "source": [
    "%%time\n",
    "# ~25сек на 5к товаров\n",
    "#cats = ['Женская одежда', 'Clothing']\n",
    "cats = ['Обувь', 'Shoes']\n",
    "data, labels, info = get_data(cats)\n",
    "\n",
    "# home laptop - usually not enough memory\n",
    "# ~11мин на 11к товаров\n",
    "# ~ 4мин на  5к товаров\n",
    "X = pca(data, n_components=250, batch_size=512, copy=True)\n",
    "\n",
    "# saving data so you can skip all the learning time\n",
    "data = {\"labels\": labels, \"info\": info}\n",
    "pickle.dump(X, open(\"./data/shoes_pca.p\", \"wb\"))\n",
    "pickle.dump(data, open(\"./data/shoes_data.p\", \"wb\"))"
   ]
  },
  {
   "cell_type": "code",
   "execution_count": 3,
   "metadata": {},
   "outputs": [],
   "source": [
    "# load similarity matrix and all the needed data for recos\n",
    "# all the data weights around 300Mb, but still better than to download all the pictures and w8 for learning\n",
    "# and it doesn't fit into github\n",
    "X = pickle.load(open(\"./data/shoes_pca.p\", \"rb\"))\n",
    "data = pickle.load(open(\"./data/shoes_data.p\", \"rb\"))\n",
    "labels, info = data[\"labels\"], data[\"info\"] \n",
    "p_sim = cosine_similarity(X)"
   ]
  },
  {
   "cell_type": "code",
   "execution_count": 4,
   "metadata": {},
   "outputs": [],
   "source": [
    "# p_sim for finding matches between all pictures from both sites\n",
    "# n_sim for finding cross-site matches\n",
    "# we know what index in matrix from which site, so nullifying same site similarities\n",
    "n_sim = p_sim\n",
    "tix = get_ix(labels, info, site='tsm')\n",
    "nix = get_ix(labels, info, site='nap')\n",
    "p_sim[np.ix_(tix, tix)] = 0\n",
    "p_sim[np.ix_(nix, nix)] = 0\n",
    "np.fill_diagonal(p_sim, 1)"
   ]
  },
  {
   "cell_type": "code",
   "execution_count": 11,
   "metadata": {},
   "outputs": [
    {
     "data": {
      "text/html": [
       "<head><meta charset=\"utf-8\"></head>\n",
       "<p style =\"text-align: center\">Given items:</p><table align = 'center' style = 'border-style: hidden'><tr><th style = 'text-align: center; width: 150px'>offer: 2869409</br>price: 48650.00</br>Gianvito Rossi</br>100.00 %</br></th></tr><tr><td style = 'width:150px'><a href = 'http://www.tsum.ru/i/28/69/40/9/03_434.jpg' target='_blank'><img src = 'http://www.tsum.ru/i/28/69/40/9/03_434.jpg' width=/></a></td></tr></table><p style =\"text-align: center\">Recommendations:</p><table align = 'center' style = 'border-style: hidden'><tr><th style = 'text-align: center; width: 150px'>offer: 1057546</br>price: 41839.65</br>Gianvito Rossi</br>94.50 %</br></th><th style = 'text-align: center; width: 150px'>offer: 1037239</br>price: 41839.65</br>Gianvito Rossi</br>94.46 %</br></th><th style = 'text-align: center; width: 150px'>offer: 1057501</br>price: 41839.65</br>Gianvito Rossi</br>93.41 %</br></th><th style = 'text-align: center; width: 150px'>offer: 1009906</br>price: 41839.65</br>Gianvito Rossi</br>92.72 %</br></th><th style = 'text-align: center; width: 150px'>offer: 864657</br>price: 41839.65</br>Gianvito Rossi</br>92.33 %</br></th><th style = 'text-align: center; width: 150px'>offer: 1083262</br>price: 49132.80</br>Gianvito Rossi</br>92.06 %</br></th></tr><tr><td style = 'width:150px'><a href = 'https://cache.net-a-porter.com/images/products/1057546/1057546_in_sl.jpg' target='_blank'><img src = 'https://cache.net-a-porter.com/images/products/1057546/1057546_in_sl.jpg' width=/></a></td><td style = 'width:150px'><a href = 'https://cache.net-a-porter.com/images/products/1037239/1037239_in_sl.jpg' target='_blank'><img src = 'https://cache.net-a-porter.com/images/products/1037239/1037239_in_sl.jpg' width=/></a></td><td style = 'width:150px'><a href = 'https://cache.net-a-porter.com/images/products/1057501/1057501_in_sl.jpg' target='_blank'><img src = 'https://cache.net-a-porter.com/images/products/1057501/1057501_in_sl.jpg' width=/></a></td><td style = 'width:150px'><a href = 'https://cache.net-a-porter.com/images/products/1009906/1009906_in_sl.jpg' target='_blank'><img src = 'https://cache.net-a-porter.com/images/products/1009906/1009906_in_sl.jpg' width=/></a></td><td style = 'width:150px'><a href = 'https://cache.net-a-porter.com/images/products/864657/864657_in_sl.jpg' target='_blank'><img src = 'https://cache.net-a-porter.com/images/products/864657/864657_in_sl.jpg' width=/></a></td><td style = 'width:150px'><a href = 'https://cache.net-a-porter.com/images/products/1083262/1083262_in_sl.jpg' target='_blank'><img src = 'https://cache.net-a-porter.com/images/products/1083262/1083262_in_sl.jpg' width=/></a></td></tr></table>"
      ],
      "text/plain": [
       "<IPython.core.display.HTML object>"
      ]
     },
     "metadata": {},
     "output_type": "display_data"
    }
   ],
   "source": [
    "# you may search similarities for random tsum item\n",
    "# sometimes there is none, cuz all the filtering (tsm<>nap, brand, treshold)\n",
    "show_recos(get_similar_items(n_sim, labels, info, to='tsm', treshold=.75), info=info)"
   ]
  },
  {
   "cell_type": "code",
   "execution_count": 6,
   "metadata": {},
   "outputs": [
    {
     "data": {
      "text/html": [
       "<head><meta charset=\"utf-8\"></head>\n",
       "<p style =\"text-align: center\">Given items:</p><table align = 'center' style = 'border-style: hidden'><tr><th style = 'text-align: center; width: 150px'>offer: 937518</br>price: 44910.45</br>Gianvito Rossi</br>100.00 %</br></th></tr><tr><td style = 'width:150px'><a href = 'https://cache.net-a-porter.com/images/products/937518/937518_in_sl.jpg' target='_blank'><img src = 'https://cache.net-a-porter.com/images/products/937518/937518_in_sl.jpg' width=/></a></td></tr></table><p style =\"text-align: center\">Recommendations:</p><table align = 'center' style = 'border-style: hidden'><tr><th style = 'text-align: center; width: 150px'>offer: 2727760</br>price: 79850.00</br>Gianvito Rossi</br>92.85 %</br></th><th style = 'text-align: center; width: 150px'>offer: 2222610</br>price: 57450.00</br>Gianvito Rossi</br>87.28 %</br></th><th style = 'text-align: center; width: 150px'>offer: 2462096</br>price: 59950.00</br>Gianvito Rossi</br>86.38 %</br></th><th style = 'text-align: center; width: 150px'>offer: 3754946</br>price: 66450.00</br>Gianvito Rossi</br>86.29 %</br></th><th style = 'text-align: center; width: 150px'>offer: 3911725</br>price: 66450.00</br>Gianvito Rossi</br>85.87 %</br></th><th style = 'text-align: center; width: 150px'>offer: 3250421</br>price: 89950.00</br>Gianvito Rossi</br>85.78 %</br></th></tr><tr><td style = 'width:150px'><a href = 'http://www.tsum.ru/i/27/27/76/0/03_434.jpg' target='_blank'><img src = 'http://www.tsum.ru/i/27/27/76/0/03_434.jpg' width=/></a></td><td style = 'width:150px'><a href = 'http://www.tsum.ru/i/22/22/61/0/03_434.jpg' target='_blank'><img src = 'http://www.tsum.ru/i/22/22/61/0/03_434.jpg' width=/></a></td><td style = 'width:150px'><a href = 'http://www.tsum.ru/i/24/62/09/6/03_434.jpg' target='_blank'><img src = 'http://www.tsum.ru/i/24/62/09/6/03_434.jpg' width=/></a></td><td style = 'width:150px'><a href = 'http://www.tsum.ru/i/37/54/94/6/03_434.jpg' target='_blank'><img src = 'http://www.tsum.ru/i/37/54/94/6/03_434.jpg' width=/></a></td><td style = 'width:150px'><a href = 'http://www.tsum.ru/i/39/11/72/5/03_434.jpg' target='_blank'><img src = 'http://www.tsum.ru/i/39/11/72/5/03_434.jpg' width=/></a></td><td style = 'width:150px'><a href = 'http://www.tsum.ru/i/32/50/42/1/03_434.jpg' target='_blank'><img src = 'http://www.tsum.ru/i/32/50/42/1/03_434.jpg' width=/></a></td></tr></table>"
      ],
      "text/plain": [
       "<IPython.core.display.HTML object>"
      ]
     },
     "metadata": {},
     "output_type": "display_data"
    }
   ],
   "source": [
    "# also you may search similarities for random nap(net-a-porter) item\n",
    "show_recos(get_similar_items(n_sim, labels, info, to='nap', treshold=.75), info=info)"
   ]
  },
  {
   "cell_type": "code",
   "execution_count": 7,
   "metadata": {},
   "outputs": [
    {
     "data": {
      "text/html": [
       "<head><meta charset=\"utf-8\"></head>\n",
       "<p style =\"text-align: center\">Given items:</p><table align = 'center' style = 'border-style: hidden'><tr><th style = 'text-align: center; width: 150px'>offer: 2149674</br>price: 66350.00</br>Valentino</br>100.00 %</br></th></tr><tr><td style = 'width:150px'><a href = 'http://www.tsum.ru/i/21/49/67/4/03_434.jpg' target='_blank'><img src = 'http://www.tsum.ru/i/21/49/67/4/03_434.jpg' width=/></a></td></tr></table><p style =\"text-align: center\">Recommendations:</p><table align = 'center' style = 'border-style: hidden'><tr><th style = 'text-align: center; width: 150px'>offer: 972444</br>price: 43835.67</br>Valentino</br>78.13 %</br></th><th style = 'text-align: center; width: 150px'>offer: 1084725</br>price: 49209.57</br>Valentino</br>75.55 %</br></th></tr><tr><td style = 'width:150px'><a href = 'https://cache.net-a-porter.com/images/products/972444/972444_in_sl.jpg' target='_blank'><img src = 'https://cache.net-a-porter.com/images/products/972444/972444_in_sl.jpg' width=/></a></td><td style = 'width:150px'><a href = 'https://cache.net-a-porter.com/images/products/1084725/1084725_in_sl.jpg' target='_blank'><img src = 'https://cache.net-a-porter.com/images/products/1084725/1084725_in_sl.jpg' width=/></a></td></tr></table>"
      ],
      "text/plain": [
       "<IPython.core.display.HTML object>"
      ]
     },
     "metadata": {},
     "output_type": "display_data"
    }
   ],
   "source": [
    "# or you may search for exact offer\n",
    "show_recos(get_similar_items(n_sim, labels, info, offer=2149674), info=info)"
   ]
  },
  {
   "cell_type": "code",
   "execution_count": 8,
   "metadata": {},
   "outputs": [
    {
     "data": {
      "text/html": [
       "<head><meta charset=\"utf-8\"></head>\n",
       "<p style =\"text-align: center\">Given items:</p><table align = 'center' style = 'border-style: hidden'><tr><th style = 'text-align: center; width: 150px'>offer: 1820677</br>price: 83400.00</br>Saint Laurent</br>100.00 %</br></th></tr><tr><td style = 'width:150px'><a href = 'http://www.tsum.ru/i/18/20/67/7/03_434.jpg' target='_blank'><img src = 'http://www.tsum.ru/i/18/20/67/7/03_434.jpg' width=/></a></td></tr></table><p style =\"text-align: center\">Recommendations:</p><table align = 'center' style = 'border-style: hidden'><tr><th style = 'text-align: center; width: 150px'>offer: 1043737</br>price: 274145.67</br>Saint Laurent</br>76.98 %</br></th></tr><tr><td style = 'width:150px'><a href = 'https://cache.net-a-porter.com/images/products/1043737/1043737_in_sl.jpg' target='_blank'><img src = 'https://cache.net-a-porter.com/images/products/1043737/1043737_in_sl.jpg' width=/></a></td></tr></table>"
      ],
      "text/plain": [
       "<IPython.core.display.HTML object>"
      ]
     },
     "metadata": {},
     "output_type": "display_data"
    }
   ],
   "source": [
    "# there are some shitty pictures in tsum, hate this changes in photoproduction changes over the time\n",
    "# and it's pca, so ...\n",
    "show_recos(get_similar_items(n_sim, labels, info, offer=1820677), info=info)"
   ]
  }
 ],
 "metadata": {
  "kernelspec": {
   "display_name": "Python 3",
   "language": "python",
   "name": "python3"
  },
  "language_info": {
   "codemirror_mode": {
    "name": "ipython",
    "version": 3
   },
   "file_extension": ".py",
   "mimetype": "text/x-python",
   "name": "python",
   "nbconvert_exporter": "python",
   "pygments_lexer": "ipython3",
   "version": "3.6.5"
  }
 },
 "nbformat": 4,
 "nbformat_minor": 2
}
